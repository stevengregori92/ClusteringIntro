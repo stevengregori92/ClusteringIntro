{
  "nbformat": 4,
  "nbformat_minor": 0,
  "metadata": {
    "colab": {
      "provenance": [],
      "authorship_tag": "ABX9TyPxS8/wmeTwhy1yjSULjc4p",
      "include_colab_link": true
    },
    "kernelspec": {
      "name": "python3",
      "display_name": "Python 3"
    },
    "language_info": {
      "name": "python"
    }
  },
  "cells": [
    {
      "cell_type": "markdown",
      "metadata": {
        "id": "view-in-github",
        "colab_type": "text"
      },
      "source": [
        "<a href=\"https://colab.research.google.com/github/stevengregori92/ClusteringIntro/blob/main/Topic_Modeling_Menggunakan_LSA_dan_LDA.ipynb\" target=\"_parent\"><img src=\"https://colab.research.google.com/assets/colab-badge.svg\" alt=\"Open In Colab\"/></a>"
      ]
    },
    {
      "cell_type": "code",
      "source": [
        "import nltk\n",
        "nltk.download('stopwords')\n",
        "nltk.download('punkt')"
      ],
      "metadata": {
        "colab": {
          "base_uri": "https://localhost:8080/"
        },
        "id": "tWu2mGploYoe",
        "outputId": "87236efd-0af6-4df5-a952-252ffca25ed4"
      },
      "execution_count": 1,
      "outputs": [
        {
          "output_type": "stream",
          "name": "stderr",
          "text": [
            "[nltk_data] Downloading package stopwords to /root/nltk_data...\n",
            "[nltk_data]   Unzipping corpora/stopwords.zip.\n",
            "[nltk_data] Downloading package punkt to /root/nltk_data...\n",
            "[nltk_data]   Unzipping tokenizers/punkt.zip.\n"
          ]
        },
        {
          "output_type": "execute_result",
          "data": {
            "text/plain": [
              "True"
            ]
          },
          "metadata": {},
          "execution_count": 1
        }
      ]
    },
    {
      "cell_type": "code",
      "execution_count": 2,
      "metadata": {
        "id": "rQaoHmG_nWfY"
      },
      "outputs": [],
      "source": [
        "import pandas as pd\n",
        "\n",
        "from nltk.tokenize import word_tokenize\n",
        "from nltk.corpus import stopwords\n",
        "from string import punctuation\n",
        "\n",
        "sw_indo = stopwords.words('indonesian') + list(punctuation)"
      ]
    },
    {
      "cell_type": "markdown",
      "source": [
        "#Import Data"
      ],
      "metadata": {
        "id": "bNaab3h1otbh"
      }
    },
    {
      "cell_type": "code",
      "source": [
        "!gdown https://drive.google.com/uc?id=13HP6N9TAp5fLC7dPIEDyjHEgYZgtlqMN"
      ],
      "metadata": {
        "colab": {
          "base_uri": "https://localhost:8080/"
        },
        "id": "ozpRyfvDo7wr",
        "outputId": "21010557-25ac-4338-dcab-78e93a3964ce"
      },
      "execution_count": 3,
      "outputs": [
        {
          "output_type": "stream",
          "name": "stdout",
          "text": [
            "Downloading...\n",
            "From: https://drive.google.com/uc?id=13HP6N9TAp5fLC7dPIEDyjHEgYZgtlqMN\n",
            "To: /content/dataaaa.zip\n",
            "100% 24.9M/24.9M [00:00<00:00, 54.2MB/s]\n"
          ]
        }
      ]
    },
    {
      "cell_type": "code",
      "source": [
        "!unzip /content/dataaaa.zip"
      ],
      "metadata": {
        "colab": {
          "base_uri": "https://localhost:8080/"
        },
        "id": "Wo5rJqIBpAOS",
        "outputId": "66c62e88-8dae-4455-fe00-6e271700b745"
      },
      "execution_count": 4,
      "outputs": [
        {
          "output_type": "stream",
          "name": "stdout",
          "text": [
            "Archive:  /content/dataaaa.zip\n",
            "   creating: data/\n",
            "  inflating: data/.DS_Store          \n",
            "   creating: __MACOSX/\n",
            "   creating: __MACOSX/data/\n",
            "  inflating: __MACOSX/data/._.DS_Store  \n",
            "  inflating: data/lfw_people.csv     \n",
            "  inflating: data/small_fmnist.csv   \n",
            "  inflating: data/breast_cancer.csv  \n",
            "  inflating: data/kompas.csv         \n",
            "  inflating: __MACOSX/data/._kompas.csv  \n",
            "   creating: data/sample_faces/\n",
            "  inflating: data/sample_faces/.DS_Store  \n",
            "   creating: __MACOSX/data/sample_faces/\n",
            "  inflating: __MACOSX/data/sample_faces/._.DS_Store  \n",
            "  inflating: data/sample_faces/hatta.png  \n",
            "  inflating: data/sample_faces/soekarno2.png  \n",
            "  inflating: data/sample_faces/soekarno1.png  \n"
          ]
        }
      ]
    },
    {
      "cell_type": "code",
      "source": [
        "df = pd.read_csv('data/kompas.csv')\n",
        "df"
      ],
      "metadata": {
        "colab": {
          "base_uri": "https://localhost:8080/",
          "height": 424
        },
        "id": "zWfzXmK7n5on",
        "outputId": "6d786af9-abcb-416f-91a4-d353d3aaafce"
      },
      "execution_count": 5,
      "outputs": [
        {
          "output_type": "execute_result",
          "data": {
            "text/plain": [
              "                                                   teks\n",
              "0     Ginandjar Tetap Ditahan. Jaksa Agung Dilaporka...\n",
              "1     Jakarta Dikangkangi Para Preman\\nKALAU tak pun...\n",
              "2     Penyimpangan di Setpres Seolah Terjadi Sekaran...\n",
              "3     Dibayarkan, Rapel Kenaikan Gaji Pegawai Pos\\nK...\n",
              "4     Stop Kekerasan, Elite agar Duduk Bersama\\nSeju...\n",
              "...                                                 ...\n",
              "2003  Tersangka Peledakan Granat di Bulungan Ditangk...\n",
              "2004  Soal Operasi Pasar Murni Beras   Pedagang Yaki...\n",
              "2005  Penjualan Indomobil Langgar Prosedur\\n\\nSelain...\n",
              "2006  Belum Jelas Motif  Peledakan Granat di Blok M\\...\n",
              "2007  ANALISIS EKONOMI SJAHRIR    BBM dan PKPS: Menu...\n",
              "\n",
              "[2008 rows x 1 columns]"
            ],
            "text/html": [
              "\n",
              "  <div id=\"df-748c7b54-edee-41a4-b5e4-6d4cba1d44cb\">\n",
              "    <div class=\"colab-df-container\">\n",
              "      <div>\n",
              "<style scoped>\n",
              "    .dataframe tbody tr th:only-of-type {\n",
              "        vertical-align: middle;\n",
              "    }\n",
              "\n",
              "    .dataframe tbody tr th {\n",
              "        vertical-align: top;\n",
              "    }\n",
              "\n",
              "    .dataframe thead th {\n",
              "        text-align: right;\n",
              "    }\n",
              "</style>\n",
              "<table border=\"1\" class=\"dataframe\">\n",
              "  <thead>\n",
              "    <tr style=\"text-align: right;\">\n",
              "      <th></th>\n",
              "      <th>teks</th>\n",
              "    </tr>\n",
              "  </thead>\n",
              "  <tbody>\n",
              "    <tr>\n",
              "      <th>0</th>\n",
              "      <td>Ginandjar Tetap Ditahan. Jaksa Agung Dilaporka...</td>\n",
              "    </tr>\n",
              "    <tr>\n",
              "      <th>1</th>\n",
              "      <td>Jakarta Dikangkangi Para Preman\\nKALAU tak pun...</td>\n",
              "    </tr>\n",
              "    <tr>\n",
              "      <th>2</th>\n",
              "      <td>Penyimpangan di Setpres Seolah Terjadi Sekaran...</td>\n",
              "    </tr>\n",
              "    <tr>\n",
              "      <th>3</th>\n",
              "      <td>Dibayarkan, Rapel Kenaikan Gaji Pegawai Pos\\nK...</td>\n",
              "    </tr>\n",
              "    <tr>\n",
              "      <th>4</th>\n",
              "      <td>Stop Kekerasan, Elite agar Duduk Bersama\\nSeju...</td>\n",
              "    </tr>\n",
              "    <tr>\n",
              "      <th>...</th>\n",
              "      <td>...</td>\n",
              "    </tr>\n",
              "    <tr>\n",
              "      <th>2003</th>\n",
              "      <td>Tersangka Peledakan Granat di Bulungan Ditangk...</td>\n",
              "    </tr>\n",
              "    <tr>\n",
              "      <th>2004</th>\n",
              "      <td>Soal Operasi Pasar Murni Beras   Pedagang Yaki...</td>\n",
              "    </tr>\n",
              "    <tr>\n",
              "      <th>2005</th>\n",
              "      <td>Penjualan Indomobil Langgar Prosedur\\n\\nSelain...</td>\n",
              "    </tr>\n",
              "    <tr>\n",
              "      <th>2006</th>\n",
              "      <td>Belum Jelas Motif  Peledakan Granat di Blok M\\...</td>\n",
              "    </tr>\n",
              "    <tr>\n",
              "      <th>2007</th>\n",
              "      <td>ANALISIS EKONOMI SJAHRIR    BBM dan PKPS: Menu...</td>\n",
              "    </tr>\n",
              "  </tbody>\n",
              "</table>\n",
              "<p>2008 rows × 1 columns</p>\n",
              "</div>\n",
              "      <button class=\"colab-df-convert\" onclick=\"convertToInteractive('df-748c7b54-edee-41a4-b5e4-6d4cba1d44cb')\"\n",
              "              title=\"Convert this dataframe to an interactive table.\"\n",
              "              style=\"display:none;\">\n",
              "        \n",
              "  <svg xmlns=\"http://www.w3.org/2000/svg\" height=\"24px\"viewBox=\"0 0 24 24\"\n",
              "       width=\"24px\">\n",
              "    <path d=\"M0 0h24v24H0V0z\" fill=\"none\"/>\n",
              "    <path d=\"M18.56 5.44l.94 2.06.94-2.06 2.06-.94-2.06-.94-.94-2.06-.94 2.06-2.06.94zm-11 1L8.5 8.5l.94-2.06 2.06-.94-2.06-.94L8.5 2.5l-.94 2.06-2.06.94zm10 10l.94 2.06.94-2.06 2.06-.94-2.06-.94-.94-2.06-.94 2.06-2.06.94z\"/><path d=\"M17.41 7.96l-1.37-1.37c-.4-.4-.92-.59-1.43-.59-.52 0-1.04.2-1.43.59L10.3 9.45l-7.72 7.72c-.78.78-.78 2.05 0 2.83L4 21.41c.39.39.9.59 1.41.59.51 0 1.02-.2 1.41-.59l7.78-7.78 2.81-2.81c.8-.78.8-2.07 0-2.86zM5.41 20L4 18.59l7.72-7.72 1.47 1.35L5.41 20z\"/>\n",
              "  </svg>\n",
              "      </button>\n",
              "      \n",
              "  <style>\n",
              "    .colab-df-container {\n",
              "      display:flex;\n",
              "      flex-wrap:wrap;\n",
              "      gap: 12px;\n",
              "    }\n",
              "\n",
              "    .colab-df-convert {\n",
              "      background-color: #E8F0FE;\n",
              "      border: none;\n",
              "      border-radius: 50%;\n",
              "      cursor: pointer;\n",
              "      display: none;\n",
              "      fill: #1967D2;\n",
              "      height: 32px;\n",
              "      padding: 0 0 0 0;\n",
              "      width: 32px;\n",
              "    }\n",
              "\n",
              "    .colab-df-convert:hover {\n",
              "      background-color: #E2EBFA;\n",
              "      box-shadow: 0px 1px 2px rgba(60, 64, 67, 0.3), 0px 1px 3px 1px rgba(60, 64, 67, 0.15);\n",
              "      fill: #174EA6;\n",
              "    }\n",
              "\n",
              "    [theme=dark] .colab-df-convert {\n",
              "      background-color: #3B4455;\n",
              "      fill: #D2E3FC;\n",
              "    }\n",
              "\n",
              "    [theme=dark] .colab-df-convert:hover {\n",
              "      background-color: #434B5C;\n",
              "      box-shadow: 0px 1px 3px 1px rgba(0, 0, 0, 0.15);\n",
              "      filter: drop-shadow(0px 1px 2px rgba(0, 0, 0, 0.3));\n",
              "      fill: #FFFFFF;\n",
              "    }\n",
              "  </style>\n",
              "\n",
              "      <script>\n",
              "        const buttonEl =\n",
              "          document.querySelector('#df-748c7b54-edee-41a4-b5e4-6d4cba1d44cb button.colab-df-convert');\n",
              "        buttonEl.style.display =\n",
              "          google.colab.kernel.accessAllowed ? 'block' : 'none';\n",
              "\n",
              "        async function convertToInteractive(key) {\n",
              "          const element = document.querySelector('#df-748c7b54-edee-41a4-b5e4-6d4cba1d44cb');\n",
              "          const dataTable =\n",
              "            await google.colab.kernel.invokeFunction('convertToInteractive',\n",
              "                                                     [key], {});\n",
              "          if (!dataTable) return;\n",
              "\n",
              "          const docLinkHtml = 'Like what you see? Visit the ' +\n",
              "            '<a target=\"_blank\" href=https://colab.research.google.com/notebooks/data_table.ipynb>data table notebook</a>'\n",
              "            + ' to learn more about interactive tables.';\n",
              "          element.innerHTML = '';\n",
              "          dataTable['output_type'] = 'display_data';\n",
              "          await google.colab.output.renderOutput(dataTable, element);\n",
              "          const docLink = document.createElement('div');\n",
              "          docLink.innerHTML = docLinkHtml;\n",
              "          element.appendChild(docLink);\n",
              "        }\n",
              "      </script>\n",
              "    </div>\n",
              "  </div>\n",
              "  "
            ]
          },
          "metadata": {},
          "execution_count": 5
        }
      ]
    },
    {
      "cell_type": "markdown",
      "source": [
        "#Extract BoW"
      ],
      "metadata": {
        "id": "31JqPWi4pzf1"
      }
    },
    {
      "cell_type": "code",
      "source": [
        "from sklearn.feature_extraction.text import CountVectorizer"
      ],
      "metadata": {
        "id": "5s3Rkpo6pIFl"
      },
      "execution_count": 6,
      "outputs": []
    },
    {
      "cell_type": "code",
      "source": [
        "bow = CountVectorizer(ngram_range=(1,2), tokenizer=word_tokenize, stop_words=sw_indo, min_df=5)\n",
        "bow_matrix = bow.fit_transform(df.teks)"
      ],
      "metadata": {
        "colab": {
          "base_uri": "https://localhost:8080/"
        },
        "id": "_PrvO0R_p7Xx",
        "outputId": "6112a591-11aa-4874-8206-219c257c08f0"
      },
      "execution_count": 7,
      "outputs": [
        {
          "output_type": "stream",
          "name": "stderr",
          "text": [
            "/usr/local/lib/python3.10/dist-packages/sklearn/feature_extraction/text.py:528: UserWarning: The parameter 'token_pattern' will not be used since 'tokenizer' is not None'\n",
            "  warnings.warn(\n",
            "/usr/local/lib/python3.10/dist-packages/sklearn/feature_extraction/text.py:409: UserWarning: Your stop_words may be inconsistent with your preprocessing. Tokenizing the stop words generated tokens ['``'] not in stop_words.\n",
            "  warnings.warn(\n"
          ]
        }
      ]
    },
    {
      "cell_type": "markdown",
      "source": [
        "#Topic Modeling"
      ],
      "metadata": {
        "id": "utSJA8s4qrPH"
      }
    },
    {
      "cell_type": "code",
      "source": [
        "vocab = bow.get_feature_names_out()"
      ],
      "metadata": {
        "id": "Qw7SWgZsqS6Y"
      },
      "execution_count": 8,
      "outputs": []
    },
    {
      "cell_type": "code",
      "source": [
        "def get_topic(model):\n",
        "  return [[vocab[idx] for idx in reversed(comp.argsort()[-6:]) if vocab[idx].isalnum()] for comp in model.components_]"
      ],
      "metadata": {
        "id": "gdQIsHVr0WEn"
      },
      "execution_count": 9,
      "outputs": []
    },
    {
      "cell_type": "markdown",
      "source": [
        "#Latent Semantic Analysis (LSA)"
      ],
      "metadata": {
        "id": "E6jFEGhozPwp"
      }
    },
    {
      "cell_type": "code",
      "source": [
        "len(vocab)"
      ],
      "metadata": {
        "colab": {
          "base_uri": "https://localhost:8080/"
        },
        "id": "DJY2H8HrqxNf",
        "outputId": "c3d75835-0fdc-41df-be1d-56f8b90f5bfd"
      },
      "execution_count": 10,
      "outputs": [
        {
          "output_type": "execute_result",
          "data": {
            "text/plain": [
              "25134"
            ]
          },
          "metadata": {},
          "execution_count": 10
        }
      ]
    },
    {
      "cell_type": "code",
      "source": [
        "from sklearn.decomposition import TruncatedSVD"
      ],
      "metadata": {
        "id": "AGv1ekcGzXVM"
      },
      "execution_count": 11,
      "outputs": []
    },
    {
      "cell_type": "code",
      "source": [
        "lsa = TruncatedSVD(n_components=10, n_iter=10, random_state=42)\n",
        "lsa_matrix = lsa.fit_transform(bow_matrix)"
      ],
      "metadata": {
        "id": "-SeYNrh1zh0P"
      },
      "execution_count": 12,
      "outputs": []
    },
    {
      "cell_type": "code",
      "source": [
        "print(bow_matrix.shape)     #hidden\n",
        "print(lsa_matrix.shape)     #weight\n",
        "print(lsa.components_.shape)#fitur"
      ],
      "metadata": {
        "colab": {
          "base_uri": "https://localhost:8080/"
        },
        "id": "mc5nqdxjz877",
        "outputId": "d89204dc-7122-4b5f-8bfe-f451811495e7"
      },
      "execution_count": 13,
      "outputs": [
        {
          "output_type": "stream",
          "name": "stdout",
          "text": [
            "(2008, 25134)\n",
            "(2008, 10)\n",
            "(10, 25134)\n"
          ]
        }
      ]
    },
    {
      "cell_type": "code",
      "source": [
        "get_topic(lsa)"
      ],
      "metadata": {
        "colab": {
          "base_uri": "https://localhost:8080/"
        },
        "id": "U5GbRb3t2HT2",
        "outputId": "28c1e9a1-e386-4642-d086-5421c5b7ddcc"
      },
      "execution_count": 14,
      "outputs": [
        {
          "output_type": "execute_result",
          "data": {
            "text/plain": [
              "[['presiden', 'indonesia', 'pemerintah', 'dpr'],\n",
              " ['presiden', 'dpr', 'ketua', 'partai', 'mpr', 'tandjung'],\n",
              " ['pemerintah', 'rp', 'indonesia', 'bank', 'persen', 'utang'],\n",
              " ['rp', 'tandjung', 'dana', 'bulog', 'hukum', 'harga'],\n",
              " ['presiden', 'air', 'banjir', 'harga', 'rp', 'dpr'],\n",
              " ['harga', 'beras', 'rp', 'bbm'],\n",
              " ['mpr', 'konstitusi', 'bppn', 'uud'],\n",
              " ['indonesia', 'mpr', 'konstitusi', 'uud', 'perubahan', '1945'],\n",
              " ['pemerintah', 'dpr', 'israel', 'bppn', 'kota', 'aceh'],\n",
              " ['massa', 'rupiah', 'bunga', 'mpr', 'bank', 'suku']]"
            ]
          },
          "metadata": {},
          "execution_count": 14
        }
      ]
    },
    {
      "cell_type": "markdown",
      "source": [
        "#Latent Dirichled Allocation (LDA)"
      ],
      "metadata": {
        "id": "lpFqBkuq2vSa"
      }
    },
    {
      "cell_type": "code",
      "source": [
        "from sklearn.decomposition import LatentDirichletAllocation"
      ],
      "metadata": {
        "id": "l-ROjU_T2U5v"
      },
      "execution_count": 15,
      "outputs": []
    },
    {
      "cell_type": "code",
      "source": [
        "lda = LatentDirichletAllocation(n_components=10, max_iter=10, random_state=42)\n",
        "lda_matrix = lda.fit_transform(bow_matrix)"
      ],
      "metadata": {
        "id": "p3euvTY629wZ"
      },
      "execution_count": 16,
      "outputs": []
    },
    {
      "cell_type": "code",
      "source": [
        "get_topic(lda)"
      ],
      "metadata": {
        "colab": {
          "base_uri": "https://localhost:8080/"
        },
        "id": "OKvKM-r53IFy",
        "outputId": "3596a192-943b-42e6-d26d-6292cacf517a"
      },
      "execution_count": 17,
      "outputs": [
        {
          "output_type": "execute_result",
          "data": {
            "text/plain": [
              "[['tandjung', 'dpr', 'hukum', 'ketua'],\n",
              " ['bank', 'indonesia', 'pemerintah', 'ekonomi'],\n",
              " ['pesawat', 'orang', 'rumah', 'korban'],\n",
              " ['banjir', 'air', 'warga', 'jakarta', 'jalan'],\n",
              " ['tni', 'hukum', 'ginandjar', 'tim'],\n",
              " ['rp', 'pemerintah', 'harga', 'bppn'],\n",
              " ['indonesia', 'as', 'pemerintah', 'aceh'],\n",
              " ['presiden', 'dpr', 'politik', 'ketua'],\n",
              " ['daerah', 'indonesia', 'masyarakat', 'maluku'],\n",
              " ['polisi', 'kepala', 'jakarta', 'orang']]"
            ]
          },
          "metadata": {},
          "execution_count": 17
        }
      ]
    }
  ]
}